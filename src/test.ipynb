{
 "cells": [
  {
   "cell_type": "code",
   "execution_count": null,
   "metadata": {},
   "outputs": [],
   "source": []
  },
  {
   "cell_type": "code",
   "execution_count": 1,
   "metadata": {},
   "outputs": [
    {
     "name": "stderr",
     "output_type": "stream",
     "text": [
      "2024-03-22 17:36:38.167787: E tensorflow/compiler/xla/stream_executor/cuda/cuda_dnn.cc:9342] Unable to register cuDNN factory: Attempting to register factory for plugin cuDNN when one has already been registered\n",
      "2024-03-22 17:36:38.167841: E tensorflow/compiler/xla/stream_executor/cuda/cuda_fft.cc:609] Unable to register cuFFT factory: Attempting to register factory for plugin cuFFT when one has already been registered\n",
      "2024-03-22 17:36:38.167890: E tensorflow/compiler/xla/stream_executor/cuda/cuda_blas.cc:1518] Unable to register cuBLAS factory: Attempting to register factory for plugin cuBLAS when one has already been registered\n",
      "2024-03-22 17:36:38.177448: I tensorflow/core/platform/cpu_feature_guard.cc:182] This TensorFlow binary is optimized to use available CPU instructions in performance-critical operations.\n",
      "To enable the following instructions: AVX2 FMA, in other operations, rebuild TensorFlow with the appropriate compiler flags.\n",
      "2024-03-22 17:36:39.152514: W tensorflow/compiler/tf2tensorrt/utils/py_utils.cc:38] TF-TRT Warning: Could not find TensorRT\n",
      "2024-03-22 17:36:40.523783: I tensorflow/compiler/xla/stream_executor/cuda/cuda_gpu_executor.cc:894] successful NUMA node read from SysFS had negative value (-1), but there must be at least one NUMA node, so returning NUMA node zero. See more at https://github.com/torvalds/linux/blob/v6.0/Documentation/ABI/testing/sysfs-bus-pci#L344-L355\n",
      "2024-03-22 17:36:40.556468: I tensorflow/compiler/xla/stream_executor/cuda/cuda_gpu_executor.cc:894] successful NUMA node read from SysFS had negative value (-1), but there must be at least one NUMA node, so returning NUMA node zero. See more at https://github.com/torvalds/linux/blob/v6.0/Documentation/ABI/testing/sysfs-bus-pci#L344-L355\n",
      "2024-03-22 17:36:40.556760: I tensorflow/compiler/xla/stream_executor/cuda/cuda_gpu_executor.cc:894] successful NUMA node read from SysFS had negative value (-1), but there must be at least one NUMA node, so returning NUMA node zero. See more at https://github.com/torvalds/linux/blob/v6.0/Documentation/ABI/testing/sysfs-bus-pci#L344-L355\n",
      "2024-03-22 17:36:40.558715: I tensorflow/compiler/xla/stream_executor/cuda/cuda_gpu_executor.cc:894] successful NUMA node read from SysFS had negative value (-1), but there must be at least one NUMA node, so returning NUMA node zero. See more at https://github.com/torvalds/linux/blob/v6.0/Documentation/ABI/testing/sysfs-bus-pci#L344-L355\n",
      "2024-03-22 17:36:40.559010: I tensorflow/compiler/xla/stream_executor/cuda/cuda_gpu_executor.cc:894] successful NUMA node read from SysFS had negative value (-1), but there must be at least one NUMA node, so returning NUMA node zero. See more at https://github.com/torvalds/linux/blob/v6.0/Documentation/ABI/testing/sysfs-bus-pci#L344-L355\n",
      "2024-03-22 17:36:40.559227: I tensorflow/compiler/xla/stream_executor/cuda/cuda_gpu_executor.cc:894] successful NUMA node read from SysFS had negative value (-1), but there must be at least one NUMA node, so returning NUMA node zero. See more at https://github.com/torvalds/linux/blob/v6.0/Documentation/ABI/testing/sysfs-bus-pci#L344-L355\n",
      "2024-03-22 17:36:40.647809: I tensorflow/compiler/xla/stream_executor/cuda/cuda_gpu_executor.cc:894] successful NUMA node read from SysFS had negative value (-1), but there must be at least one NUMA node, so returning NUMA node zero. See more at https://github.com/torvalds/linux/blob/v6.0/Documentation/ABI/testing/sysfs-bus-pci#L344-L355\n",
      "2024-03-22 17:36:40.648077: I tensorflow/compiler/xla/stream_executor/cuda/cuda_gpu_executor.cc:894] successful NUMA node read from SysFS had negative value (-1), but there must be at least one NUMA node, so returning NUMA node zero. See more at https://github.com/torvalds/linux/blob/v6.0/Documentation/ABI/testing/sysfs-bus-pci#L344-L355\n",
      "2024-03-22 17:36:40.648298: I tensorflow/compiler/xla/stream_executor/cuda/cuda_gpu_executor.cc:894] successful NUMA node read from SysFS had negative value (-1), but there must be at least one NUMA node, so returning NUMA node zero. See more at https://github.com/torvalds/linux/blob/v6.0/Documentation/ABI/testing/sysfs-bus-pci#L344-L355\n",
      "2024-03-22 17:36:40.648490: I tensorflow/core/common_runtime/gpu/gpu_device.cc:1886] Created device /job:localhost/replica:0/task:0/device:GPU:0 with 2193 MB memory:  -> device: 0, name: NVIDIA GeForce RTX 3050 Laptop GPU, pci bus id: 0000:01:00.0, compute capability: 8.6\n"
     ]
    },
    {
     "name": "stdout",
     "output_type": "stream",
     "text": [
      "Using cuda device\n",
      "Wrapping the env with a `Monitor` wrapper\n",
      "Wrapping the env in a DummyVecEnv.\n",
      "Wrapping the env in a VecTransposeImage.\n"
     ]
    },
    {
     "name": "stderr",
     "output_type": "stream",
     "text": [
      "/home/rinzler/Github/Mario_RL/mario_env/lib/python3.10/site-packages/gym_super_mario_bros/smb_env.py:148: RuntimeWarning: overflow encountered in scalar subtract\n",
      "  return (self.ram[0x86] - self.ram[0x071c]) % 256\n"
     ]
    },
    {
     "name": "stdout",
     "output_type": "stream",
     "text": [
      "---------------------------------\n",
      "| rollout/           |          |\n",
      "|    ep_len_mean     | 1.49e+03 |\n",
      "|    ep_rew_mean     | 8        |\n",
      "| time/              |          |\n",
      "|    fps             | 79       |\n",
      "|    iterations      | 1        |\n",
      "|    time_elapsed    | 25       |\n",
      "|    total_timesteps | 2048     |\n",
      "---------------------------------\n"
     ]
    },
    {
     "ename": "",
     "evalue": "",
     "output_type": "error",
     "traceback": [
      "\u001b[1;31mThe Kernel crashed while executing code in the current cell or a previous cell. \n",
      "\u001b[1;31mPlease review the code in the cell(s) to identify a possible cause of the failure. \n",
      "\u001b[1;31mClick <a href='https://aka.ms/vscodeJupyterKernelCrash'>here</a> for more info. \n",
      "\u001b[1;31mView Jupyter <a href='command:jupyter.viewOutput'>log</a> for further details."
     ]
    }
   ],
   "source": [
    "# Import necessary libraries\n",
    "import gym\n",
    "import pickle\n",
    "import random\n",
    "from stable_baselines3 import DQN, A2C, PPO\n",
    "from stable_baselines3.common.evaluation import evaluate_policy\n",
    "import gym_super_mario_bros\n",
    "from nes_py.wrappers import JoypadSpace\n",
    "from gym_super_mario_bros.actions import RIGHT_ONLY\n",
    "from stable_baselines3.common import atari_wrappers\n",
    "import tensorflow as tf\n",
    "\n",
    "with tf.device('/gpu:0'):\n",
    "    # Set parameters for the experiment\n",
    "    environmentID = \"SuperMarioBros2-v1\"\n",
    "    trainMode = True  # Set to False if you wish to load a pre-trained model\n",
    "    learningAlg = \"PPO\"  # Choose between 'DQN', 'A2C', and 'PPO'\n",
    "    seed = random.randint(0, 1000) if trainMode else 42  # Set a seed number here\n",
    "    num_training_steps = 10000\n",
    "    num_test_episodes = 10\n",
    "    learning_rate = 0.00083\n",
    "    gamma = 0.995\n",
    "    policy_rendering = True\n",
    "\n",
    "    # Define a function to create the learning environment\n",
    "    def make_env(gym_id, seed):\n",
    "        env = gym_super_mario_bros.make(gym_id)\n",
    "        env = JoypadSpace(env, RIGHT_ONLY)\n",
    "        env = atari_wrappers.MaxAndSkipEnv(env, 4)\n",
    "        env = atari_wrappers.NoopResetEnv(env, noop_max=30)\n",
    "        env = atari_wrappers.ClipRewardEnv(env)\n",
    "        env.seed(seed)    \n",
    "        env.action_space.seed(seed)\n",
    "        env.observation_space.seed(seed)\n",
    "        return env\n",
    "\n",
    "    # Create the learning environment\n",
    "    environment = make_env(environmentID, seed)\n",
    "\n",
    "    # Initialize the agent's model\n",
    "    if learningAlg == \"DQN\":\n",
    "        model = DQN(\"CnnPolicy\", environment, seed=seed, learning_rate=learning_rate, gamma=gamma, buffer_size=50000, exploration_fraction=0.9, verbose=1)\n",
    "    elif learningAlg == \"A2C\":\n",
    "        model = A2C(\"CnnPolicy\", environment, seed=seed, learning_rate=learning_rate, gamma=gamma, verbose=1)\n",
    "    elif learningAlg == \"PPO\":\n",
    "        model = PPO(\"CnnPolicy\", environment, seed=seed, learning_rate=learning_rate, gamma=gamma, verbose=1)\n",
    "    else:\n",
    "        raise ValueError(f\"UNKNOWN learningAlg={learningAlg}\")\n",
    "\n",
    "    # Train the agent or load a pre-trained model\n",
    "    # Train the agent or load a pre-trained model\n",
    "    if trainMode:\n",
    "        model.learn(total_timesteps=num_training_steps)  # Removed progress_bar=True\n",
    "        policyFileName = f\"{learningAlg}-{environmentID}-seed{str(seed)}.policy.pkl\"\n",
    "        print(\"Saving policy \" + str(policyFileName))\n",
    "        model.save(policyFileName)\n",
    "    else:\n",
    "        policyFileName = input(\"Enter the name of the policy file to load: \")\n",
    "        print(\"Loading policy...\")\n",
    "        model = model.load(policyFileName)\n",
    "\n",
    "\n",
    "    # Evaluate and visualize the agent's performance\n",
    "    print(\"Evaluating policy...\")\n",
    "    mean_reward, std_reward = evaluate_policy(model, model.get_env(), n_eval_episodes=num_test_episodes * 5, render=policy_rendering)\n",
    "    print(f\"EVALUATION: mean_reward={mean_reward} std_reward={std_reward}\")"
   ]
  }
 ],
 "metadata": {
  "kernelspec": {
   "display_name": "env",
   "language": "python",
   "name": "python3"
  },
  "language_info": {
   "codemirror_mode": {
    "name": "ipython",
    "version": 3
   },
   "file_extension": ".py",
   "mimetype": "text/x-python",
   "name": "python",
   "nbconvert_exporter": "python",
   "pygments_lexer": "ipython3",
   "version": "3.10.12"
  }
 },
 "nbformat": 4,
 "nbformat_minor": 2
}
